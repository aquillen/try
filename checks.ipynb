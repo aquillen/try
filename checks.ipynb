{
 "cells": [
  {
   "cell_type": "code",
   "execution_count": 1,
   "metadata": {},
   "outputs": [],
   "source": [
    "import numpy as np\n",
    "import matplotlib.pyplot as plt\n",
    "%matplotlib inline\n",
    "\n",
    "from constants import *  # relevant constants!\n",
    "from particle import *   # free particle class def and some routines\n",
    "from solid_body import *  # solid body (Pan) routines\n",
    "from free_particle_forces import *  # routines for calculating accelerations on free particles\n",
    "\n",
    "%load_ext autoreload\n",
    "%autoreload 2\n",
    "\n",
    "# I have checked that these routines read in okay without errors"
   ]
  },
  {
   "cell_type": "code",
   "execution_count": 2,
   "metadata": {},
   "outputs": [],
   "source": [
    "# given a mass and a density compute the radius of a sphere\n",
    "def rad_from_density(mass,rho):\n",
    "    z = 3.0*mass/(rho*4.0*np.pi)\n",
    "    radius = z**(1.0/3.0)\n",
    "    return radius\n",
    "\n",
    "# routine to display all particles in a solid body in the xy plane\n",
    "# arguments are a figure and axes for the figure\n",
    "def display_stuck(fig,ax,solid_body):\n",
    "    n = len(solid_body.stuck_particles)\n",
    "    for i in range(0,n):\n",
    "        x = solid_body.stuck_particles[i].x\n",
    "        y = solid_body.stuck_particles[i].y\n",
    "        rad = solid_body.stuck_particles[i].radius\n",
    "        circle1=plt.Circle((x, y),rad, color='red')\n",
    "        ax.add_artist(circle1)\n",
    "    return\n",
    "\n",
    "# routine to display a free particles in the xy plane\n",
    "# arguments are a figure and axes for the figure\n",
    "def display_free(fig,ax,free_particle):\n",
    "    x = free_particle.x\n",
    "    y = free_particle.y\n",
    "    rad = free_particle.radius\n",
    "    circle1=plt.Circle((x, y),rad, color='blue')\n",
    "    ax.add_artist(circle1)\n",
    "    "
   ]
  },
  {
   "cell_type": "code",
   "execution_count": 3,
   "metadata": {},
   "outputs": [],
   "source": [
    "# check that we can create a free particle\n",
    "vx,vy,vz = 0,0,0\n",
    "x,y,z = 2*r_Hill_Pan,0,0\n",
    "mass = mass_Pan/1e3\n",
    "radius = rad_from_density(mass,1e3)  # a density of 1e3 kg/m3 is 1g/cc \n",
    "f1 = free_particle(mass,radius,x,y,z,vx,vy,vz) \n",
    "# success on creating a free particle!"
   ]
  },
  {
   "cell_type": "code",
   "execution_count": 4,
   "metadata": {},
   "outputs": [
    {
     "name": "stdout",
     "output_type": "stream",
     "text": [
      "1057.236617473416\n"
     ]
    }
   ],
   "source": [
    "print(radius)"
   ]
  },
  {
   "cell_type": "code",
   "execution_count": 5,
   "metadata": {},
   "outputs": [],
   "source": [
    "# check that we can create a stuck particle\n",
    "first_particle = stuck_particle(mass_Pan,1e3,0,0,0)\n",
    "# success!"
   ]
  },
  {
   "cell_type": "code",
   "execution_count": 6,
   "metadata": {},
   "outputs": [],
   "source": [
    "# check that we can create a solid_body central particle\n",
    "Pan = Psolid_body(mass_Pan,R_polar_Pan)\n",
    "# success!"
   ]
  },
  {
   "cell_type": "code",
   "execution_count": 7,
   "metadata": {},
   "outputs": [
    {
     "name": "stdout",
     "output_type": "stream",
     "text": [
      "10400.0\n"
     ]
    }
   ],
   "source": [
    "print(R_polar_Pan)"
   ]
  },
  {
   "cell_type": "code",
   "execution_count": 8,
   "metadata": {},
   "outputs": [],
   "source": [
    "# check that we can add a particle to the solid body\n",
    "Pan.add_particle(mass_Pan/1e3,R_polar_Pan/10,R_polar_Pan*1.1,R_polar_Pan*1.1,0)\n",
    "# success"
   ]
  },
  {
   "cell_type": "code",
   "execution_count": 9,
   "metadata": {},
   "outputs": [
    {
     "data": {
      "image/png": "[encoded data removed]",
      "text/plain": [
       "<Figure size 432x288 with 1 Axes>"
      ]
     },
     "metadata": {
      "needs_background": "light"
     },
     "output_type": "display_data"
    }
   ],
   "source": [
    "# plot free and solid particles on the xy plane\n",
    "fig, ax = plt.subplots()\n",
    "ax.set_xlim(-4*r_Hill_Pan,4*r_Hill_Pan)\n",
    "ax.set_ylim(-2*r_Hill_Pan,2*r_Hill_Pan)\n",
    "ax.set_aspect(1.0)\n",
    "ax.set_xlabel('x (km)')\n",
    "ax.set_ylabel('y (km)')\n",
    "display_free(fig,ax,f1)  # display free particle\n",
    "display_stuck(fig,ax,Pan)  # display the solid body particles too\n",
    "# success"
   ]
  },
  {
   "cell_type": "code",
   "execution_count": 10,
   "metadata": {},
   "outputs": [
    {
     "name": "stdout",
     "output_type": "stream",
     "text": [
      "19057.088015120575\n"
     ]
    }
   ],
   "source": [
    "print(r_Hill_Pan)"
   ]
  },
  {
   "cell_type": "code",
   "execution_count": 11,
   "metadata": {},
   "outputs": [],
   "source": [
    "Coriolis_force(f1)"
   ]
  },
  {
   "cell_type": "code",
   "execution_count": null,
   "metadata": {},
   "outputs": [],
   "source": []
  }
 ],
 "metadata": {
  "kernelspec": {
   "display_name": "Python 3",
   "language": "python",
   "name": "python3"
  },
  "language_info": {
   "codemirror_mode": {
    "name": "ipython",
    "version": 3
   },
   "file_extension": ".py",
   "mimetype": "text/x-python",
   "name": "python",
   "nbconvert_exporter": "python",
   "pygments_lexer": "ipython3",
   "version": "3.6.8"
  }
 },
 "nbformat": 4,
 "nbformat_minor": 2
}
