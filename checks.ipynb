{
 "cells": [
  {
   "cell_type": "code",
   "execution_count": 43,
   "metadata": {},
   "outputs": [
    {
     "name": "stdout",
     "output_type": "stream",
     "text": [
      "The autoreload extension is already loaded. To reload it, use:\n",
      "  %reload_ext autoreload\n"
     ]
    }
   ],
   "source": [
    "import numpy as np\n",
    "import matplotlib.pyplot as plt\n",
    "%matplotlib inline\n",
    "\n",
    "from constants import *  # relevant constants!\n",
    "from particle import *   # free particle class def and some routines\n",
    "from solid_body import *  # solid body (Pan) routines\n",
    "from free_particle_forces import *  # routines for calculating accelerations on free particles\n",
    "\n",
    "%load_ext autoreload\n",
    "%autoreload 2\n",
    "\n",
    "# I have checked that these routines read in okay without errors"
   ]
  },
  {
   "cell_type": "code",
   "execution_count": 14,
   "metadata": {},
   "outputs": [],
   "source": [
    "# given a mass and a density compute the radius of a sphere\n",
    "def rad_from_density(mass,rho):\n",
    "    z = 3.0*mass/(rho*4.0*np.pi)\n",
    "    radius = z**(1.0/3.0)\n",
    "    return radius\n",
    "\n",
    "\n",
    "# I want a routine here\n",
    "def display(fig,solid_body):\n",
    "    return\n",
    "\n",
    "def display(fig,free_particle):"
   ]
  },
  {
   "cell_type": "code",
   "execution_count": 23,
   "metadata": {},
   "outputs": [],
   "source": [
    "# check that we can create a free particle\n",
    "vx,vy,vz = 0,0,0\n",
    "mass = mass_Pan/1e3\n",
    "radius = rad_from_density(mass,1e3)  # a density of 1e3 kg/m3 is 1g/cc \n",
    "# success on creating a free particle!\n",
    "f1 = free_particle(mass,radius,0,0,0,vx,vy,vz) "
   ]
  },
  {
   "cell_type": "code",
   "execution_count": 18,
   "metadata": {},
   "outputs": [
    {
     "name": "stdout",
     "output_type": "stream",
     "text": [
      "1057.236617473416\n"
     ]
    }
   ],
   "source": [
    "print(radius)"
   ]
  },
  {
   "cell_type": "code",
   "execution_count": 36,
   "metadata": {},
   "outputs": [],
   "source": [
    "# check that we can create a stuck particle\n",
    "first_particle = stuck_particle(mass_Pan,1e3,0,0,0)\n",
    "# success!"
   ]
  },
  {
   "cell_type": "code",
   "execution_count": 49,
   "metadata": {},
   "outputs": [],
   "source": [
    "# check that we can create a solid_body central particle\n",
    "Pan = Psolid_body(mass_Pan,R_polar_Pan)\n",
    "# success!"
   ]
  },
  {
   "cell_type": "code",
   "execution_count": 25,
   "metadata": {},
   "outputs": [],
   "source": []
  }
 ],
 "metadata": {
  "kernelspec": {
   "display_name": "Python 3",
   "language": "python",
   "name": "python3"
  },
  "language_info": {
   "codemirror_mode": {
    "name": "ipython",
    "version": 3
   },
   "file_extension": ".py",
   "mimetype": "text/x-python",
   "name": "python",
   "nbconvert_exporter": "python",
   "pygments_lexer": "ipython3",
   "version": "3.6.8"
  }
 },
 "nbformat": 4,
 "nbformat_minor": 2
}
